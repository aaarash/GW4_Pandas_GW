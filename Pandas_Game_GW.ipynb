{
 "cells": [
  {
   "cell_type": "code",
   "execution_count": 1,
   "metadata": {},
   "outputs": [],
   "source": [
    "import warnings\n",
    "warnings.simplefilter('ignore')\n",
    "\n",
    "import pandas as pd\n",
    "import numpy as np\n",
    "from scipy import stats\n",
    "\n",
    "import matplotlib\n",
    "import matplotlib.pyplot as plt\n",
    "\n",
    "import seaborn as sns\n",
    "sns.set_style('darkgrid')\n",
    "\n",
    "%config InlineBackend.figure_format = 'retina'\n",
    "\n",
    "# Turnning on plotting display in the notebook\n",
    "%matplotlib inline\n",
    "\n",
    "plt.style.use('fivethirtyeight')"
   ]
  },
  {
   "cell_type": "code",
   "execution_count": 2,
   "metadata": {},
   "outputs": [
    {
     "data": {
      "text/html": [
       "<div>\n",
       "<style scoped>\n",
       "    .dataframe tbody tr th:only-of-type {\n",
       "        vertical-align: middle;\n",
       "    }\n",
       "\n",
       "    .dataframe tbody tr th {\n",
       "        vertical-align: top;\n",
       "    }\n",
       "\n",
       "    .dataframe thead th {\n",
       "        text-align: right;\n",
       "    }\n",
       "</style>\n",
       "<table border=\"1\" class=\"dataframe\">\n",
       "  <thead>\n",
       "    <tr style=\"text-align: right;\">\n",
       "      <th></th>\n",
       "      <th>Age</th>\n",
       "      <th>Gender</th>\n",
       "      <th>Item ID</th>\n",
       "      <th>Item Name</th>\n",
       "      <th>Price</th>\n",
       "      <th>SN</th>\n",
       "    </tr>\n",
       "  </thead>\n",
       "  <tbody>\n",
       "    <tr>\n",
       "      <th>0</th>\n",
       "      <td>38</td>\n",
       "      <td>Male</td>\n",
       "      <td>165</td>\n",
       "      <td>Bone Crushing Silver Skewer</td>\n",
       "      <td>3.37</td>\n",
       "      <td>Aelalis34</td>\n",
       "    </tr>\n",
       "    <tr>\n",
       "      <th>1</th>\n",
       "      <td>21</td>\n",
       "      <td>Male</td>\n",
       "      <td>119</td>\n",
       "      <td>Stormbringer, Dark Blade of Ending Misery</td>\n",
       "      <td>2.32</td>\n",
       "      <td>Eolo46</td>\n",
       "    </tr>\n",
       "    <tr>\n",
       "      <th>2</th>\n",
       "      <td>34</td>\n",
       "      <td>Male</td>\n",
       "      <td>174</td>\n",
       "      <td>Primitive Blade</td>\n",
       "      <td>2.46</td>\n",
       "      <td>Assastnya25</td>\n",
       "    </tr>\n",
       "    <tr>\n",
       "      <th>3</th>\n",
       "      <td>21</td>\n",
       "      <td>Male</td>\n",
       "      <td>92</td>\n",
       "      <td>Final Critic</td>\n",
       "      <td>1.36</td>\n",
       "      <td>Pheusrical25</td>\n",
       "    </tr>\n",
       "    <tr>\n",
       "      <th>4</th>\n",
       "      <td>23</td>\n",
       "      <td>Male</td>\n",
       "      <td>63</td>\n",
       "      <td>Stormfury Mace</td>\n",
       "      <td>1.27</td>\n",
       "      <td>Aela59</td>\n",
       "    </tr>\n",
       "  </tbody>\n",
       "</table>\n",
       "</div>"
      ],
      "text/plain": [
       "   Age Gender  Item ID                                  Item Name  Price  \\\n",
       "0   38   Male      165                Bone Crushing Silver Skewer   3.37   \n",
       "1   21   Male      119  Stormbringer, Dark Blade of Ending Misery   2.32   \n",
       "2   34   Male      174                            Primitive Blade   2.46   \n",
       "3   21   Male       92                               Final Critic   1.36   \n",
       "4   23   Male       63                             Stormfury Mace   1.27   \n",
       "\n",
       "             SN  \n",
       "0     Aelalis34  \n",
       "1        Eolo46  \n",
       "2   Assastnya25  \n",
       "3  Pheusrical25  \n",
       "4        Aela59  "
      ]
     },
     "execution_count": 2,
     "metadata": {},
     "output_type": "execute_result"
    }
   ],
   "source": [
    "Game = pd.read_json('Pandas_purchase_data_GW.json')\n",
    "Game.head()"
   ]
  },
  {
   "cell_type": "code",
   "execution_count": 3,
   "metadata": {},
   "outputs": [],
   "source": [
    "#Game['Price_N'] = (Game.Price - Game.Price.mean()) / (Game.Price.max() - Game.Price.min())\n",
    "Game['Price_N'] = (Game.Price - Game.Price.mean()) / Game.Price.std()"
   ]
  },
  {
   "cell_type": "code",
   "execution_count": 4,
   "metadata": {},
   "outputs": [
    {
     "name": "stdout",
     "output_type": "stream",
     "text": [
      "\u001b[1m\n",
      "Total Number of Players:\n",
      "\u001b[0m\n",
      "573\n"
     ]
    }
   ],
   "source": [
    "print('\\033[1m')\n",
    "print('Total Number of Players:')\n",
    "print('\\033[0m')\n",
    "print(len(Game['SN'].unique()))"
   ]
  },
  {
   "cell_type": "code",
   "execution_count": 5,
   "metadata": {},
   "outputs": [
    {
     "name": "stdout",
     "output_type": "stream",
     "text": [
      "\u001b[1m Number of unique Items:   \u001b[0m 183\n",
      "\u001b[1m Average Purchase Price: $ \u001b[0m 2.931192307692303\n",
      "\u001b[1m Total Number of Purchases: \u001b[0m (780,)\n",
      "\u001b[1m Total Revenue: $ \u001b[0m 2286.33\n"
     ]
    }
   ],
   "source": [
    "# Purchasing Analysis (Total)\n",
    "\n",
    "print('\\033[1m', 'Number of unique Items:  ', '\\033[0m', len(Game['Item ID'].unique()))\n",
    "print('\\033[1m', 'Average Purchase Price: $', '\\033[0m', Game.Price.mean())\n",
    "print('\\033[1m', 'Total Number of Purchases:', '\\033[0m',  Game.Price.shape)\n",
    "print('\\033[1m', 'Total Revenue: $', '\\033[0m', Game.Price.sum())"
   ]
  },
  {
   "cell_type": "code",
   "execution_count": 6,
   "metadata": {},
   "outputs": [],
   "source": [
    "# print(f\"Number of unique Items: {len(Game['Item ID'].unique())}\")"
   ]
  },
  {
   "cell_type": "code",
   "execution_count": 7,
   "metadata": {},
   "outputs": [
    {
     "name": "stdout",
     "output_type": "stream",
     "text": [
      "\u001b[1m Count of Players Based on Gender: \u001b[0m \n",
      " col_0                  count\n",
      "Gender                      \n",
      "Female                   136\n",
      "Male                     633\n",
      "Other / Non-Disclosed     11\n",
      "\n",
      "\n",
      "\u001b[1m Percentage of Players Based on Gender: \u001b[0m \n",
      " col_0                     count\n",
      "Gender                         \n",
      "Female                 0.174359\n",
      "Male                   0.811538\n",
      "Other / Non-Disclosed  0.014103\n"
     ]
    }
   ],
   "source": [
    "# Gender Demographics \n",
    "\n",
    "Game_FT_G = pd.crosstab(index=Game['Gender'], \n",
    "            columns='count')\n",
    "print('\\033[1m', 'Count of Players Based on Gender:', '\\033[0m', '\\n', Game_FT_G)\n",
    "print('\\n')\n",
    "print('\\033[1m', 'Percentage of Players Based on Gender:', '\\033[0m', '\\n', Game_FT_G/Game_FT_G.sum())"
   ]
  },
  {
   "cell_type": "code",
   "execution_count": 8,
   "metadata": {},
   "outputs": [
    {
     "name": "stdout",
     "output_type": "stream",
     "text": [
      "\u001b[1m Average Purchase Price - Gender: \u001b[0m\n",
      "Male:   $ 2.9505213270142154\n",
      "Female: $ 2.815514705882352\n",
      "Others: $ 3.2490909090909086\n",
      "\n",
      "\n",
      "\u001b[1m Total Purchase value - Gender: \u001b[0m\n",
      "Male: $ 1867.68\n",
      "FeMale: $ 382.90999999999997\n",
      "Others: $ 35.739999999999995\n",
      "\n",
      "\n"
     ]
    }
   ],
   "source": [
    "# Purchasing Analysis (Gender)\n",
    "\n",
    "print('\\033[1m', 'Average Purchase Price - Gender:', '\\033[0m')\n",
    "print('Male:   $', Game[Game.Gender == 'Male'].Price.mean()) \n",
    "print('Female: $', Game[Game.Gender == 'Female'].Price.mean()) \n",
    "print('Others: $', Game[Game.Gender == 'Other / Non-Disclosed'].Price.mean()) \n",
    "print('\\n')\n",
    "print('\\033[1m', 'Total Purchase value - Gender:', '\\033[0m')\n",
    "print('Male: $', Game[Game.Gender == 'Male'].Price.sum()) \n",
    "print('FeMale: $', Game[Game.Gender == 'Female'].Price.sum()) \n",
    "print('Others: $', Game[Game.Gender == 'Other / Non-Disclosed'].Price.sum()) \n",
    "print('\\n')"
   ]
  },
  {
   "cell_type": "code",
   "execution_count": 9,
   "metadata": {},
   "outputs": [],
   "source": [
    "# Purchasing Analysis (Gender)\n",
    "\n",
    "#print('\\033[1m', 'Normalized Totals:', '\\033[0m')\n",
    "#print('Male: $', (Game[Game.Gender == 'Male'].Price.sum() \n",
    "# - Game[Game.Gender == 'Male'].Price.mean()) / (Game[Game.Gender == 'Male'].Price.max() \n",
    "#                                                - Game[Game.Gender == 'Male'].Price.min()))\n",
    "#print('Female: $', (Game[Game.Gender == 'Female'].Price.sum() \n",
    "# - Game[Game.Gender == 'Female'].Price.mean()) / (Game[Game.Gender == 'Female'].Price.max() \n",
    "#                                                - Game[Game.Gender == 'Female'].Price.min()))\n",
    "#print('Others: $', (Game[Game.Gender == 'Other / Non-Disclosed'].Price.sum() \n",
    "# - Game[Game.Gender == 'Other / Non-Disclosed'].Price.mean()) / (Game[Game.Gender == 'Other / Non-Disclosed'].Price.max() \n",
    "#                                                - Game[Game.Gender == 'Other / Non-Disclosed'].Price.min()))"
   ]
  },
  {
   "cell_type": "code",
   "execution_count": 10,
   "metadata": {},
   "outputs": [],
   "source": [
    "#print('\\033[1m', 'Normalized Totals:', '\\033[0m')\n",
    "#print('Male:   $', Game[Game.Gender == 'Male'].Price_N.sum()) \n",
    "#print('Female: $', Game[Game.Gender == 'Female'].Price_N.sum()) \n",
    "#print('Others: $', Game[Game.Gender == 'Other / Non-Disclosed'].Price_N.sum())"
   ]
  },
  {
   "cell_type": "code",
   "execution_count": 11,
   "metadata": {},
   "outputs": [],
   "source": [
    "#AgeGroup = pd.cut(Game.Age, (Game.Age.max() - Game.Age.min())/4)\n",
    "#Game['AgeGroup'] = Game.apply(lambda _: '', axis=1)\n",
    "#Game.AgeGroup = AgeGroup\n",
    "#Game = Game[['Age', 'AgeGroup', 'Gender', 'Item ID', 'Item Name', 'Price', 'SN']]\n",
    "#print('Count of Players Based on AgeGroup:', '\\n', Game.AgeGroup.value_counts())\n",
    "#print('\\n')\n",
    "#print('Average Purchase Price - AgeGroup:')\n",
    "#print('19.667, 23.889 ', Game[Game.AgeGroup == '19.667, 23.889'].Price.mean()) \n",
    "#print('23.889, 28.111 ', Game[Game.AgeGroup == '23.889, 28.111'].Price.mean()) \n",
    "#print('15.444, 19.667 ', Game[Game.AgeGroup == '15.444, 19.667'].Price.mean()) \n",
    "#print('\\n')"
   ]
  },
  {
   "cell_type": "code",
   "execution_count": 9,
   "metadata": {},
   "outputs": [
    {
     "name": "stdout",
     "output_type": "stream",
     "text": [
      "\u001b[1m Count of Players Based on AgeGroup: \u001b[0m\n",
      "19-22    231\n",
      "23-26    207\n",
      "15-18    111\n",
      "27-30     63\n",
      "31-34     46\n",
      "35-38     37\n",
      "11-14     31\n",
      "39-42     20\n",
      "<=10      13\n",
      ">42        2\n",
      "Name: AgeGroup, dtype: int64\n",
      "\n",
      "\n",
      "\u001b[1m Average Purchase Price - AgeGroup: \u001b[0m\n",
      "<=10  3.1653846153846152\n",
      "11-14  2.7029032258064514\n",
      "15-18  2.876756756756757\n",
      "19-22  2.927272727272728\n",
      "23-26  2.9372946859903397\n",
      "27-30  2.983968253968254\n",
      "31-34  3.0704347826086953\n",
      "35-38  2.8124324324324323\n",
      "39-42  3.128000000000001\n",
      ">42  3.2649999999999997\n",
      "\n",
      "\n",
      "\u001b[1m Total Purchase Value - AgeGroup: \u001b[0m\n",
      "<=10  41.15\n",
      "11-14  83.78999999999999\n",
      "15-18  319.32000000000005\n",
      "19-22  676.1999999999998\n",
      "23-26  608.02\n",
      "27-30  187.99\n",
      "31-34  141.24\n",
      "35-38  104.05999999999999\n",
      "39-42  62.56\n",
      ">42  6.529999999999999\n",
      "\n",
      "\n"
     ]
    }
   ],
   "source": [
    "# Age Demographics\n",
    "\n",
    "bins = [7, 10, 14, 18, 22, 26, 30, 34, 38, 42, 46]\n",
    "bins_names = ['<=10', '11-14', '15-18', '19-22', '23-26', '27-30', '31-34', '35-38', '39-42', '>42']\n",
    "\n",
    "pd.cut(Game.Age, bins, labels=bins_names)\n",
    "Game['AgeGroup'] = pd.cut(Game['Age'], bins, labels=bins_names)\n",
    "\n",
    "print('\\033[1m', 'Count of Players Based on AgeGroup:', '\\033[0m')\n",
    "print(Game.AgeGroup.value_counts())\n",
    "print('\\n')\n",
    "print('\\033[1m', 'Average Purchase Price - AgeGroup:', '\\033[0m')\n",
    "print('<=10 ', Game[Game.AgeGroup == '<=10'].Price.mean())\n",
    "print('11-14 ', Game[Game.AgeGroup == '11-14'].Price.mean()) \n",
    "print('15-18 ', Game[Game.AgeGroup == '15-18'].Price.mean()) \n",
    "print('19-22 ', Game[Game.AgeGroup == '19-22'].Price.mean()) \n",
    "print('23-26 ', Game[Game.AgeGroup == '23-26'].Price.mean()) \n",
    "print('27-30 ', Game[Game.AgeGroup == '27-30'].Price.mean()) \n",
    "print('31-34 ', Game[Game.AgeGroup == '31-34'].Price.mean()) \n",
    "print('35-38 ', Game[Game.AgeGroup == '35-38'].Price.mean()) \n",
    "print('39-42 ', Game[Game.AgeGroup == '39-42'].Price.mean()) \n",
    "print('>42 ', Game[Game.AgeGroup == '>42'].Price.mean()) \n",
    "print('\\n')\n",
    "print('\\033[1m', 'Total Purchase Value - AgeGroup:', '\\033[0m')\n",
    "print('<=10 ', Game[Game.AgeGroup == '<=10'].Price.sum())\n",
    "print('11-14 ', Game[Game.AgeGroup == '11-14'].Price.sum()) \n",
    "print('15-18 ', Game[Game.AgeGroup == '15-18'].Price.sum()) \n",
    "print('19-22 ', Game[Game.AgeGroup == '19-22'].Price.sum()) \n",
    "print('23-26 ', Game[Game.AgeGroup == '23-26'].Price.sum()) \n",
    "print('27-30 ', Game[Game.AgeGroup == '27-30'].Price.sum()) \n",
    "print('31-34 ', Game[Game.AgeGroup == '31-34'].Price.sum()) \n",
    "print('35-38 ', Game[Game.AgeGroup == '35-38'].Price.sum()) \n",
    "print('39-42 ', Game[Game.AgeGroup == '39-42'].Price.sum()) \n",
    "print('>42 ', Game[Game.AgeGroup == '>42'].Price.sum()) \n",
    "print('\\n')"
   ]
  },
  {
   "cell_type": "code",
   "execution_count": 10,
   "metadata": {
    "scrolled": false
   },
   "outputs": [
    {
     "data": {
      "text/html": [
       "<div>\n",
       "<style scoped>\n",
       "    .dataframe tbody tr th:only-of-type {\n",
       "        vertical-align: middle;\n",
       "    }\n",
       "\n",
       "    .dataframe tbody tr th {\n",
       "        vertical-align: top;\n",
       "    }\n",
       "\n",
       "    .dataframe thead th {\n",
       "        text-align: right;\n",
       "    }\n",
       "</style>\n",
       "<table border=\"1\" class=\"dataframe\">\n",
       "  <thead>\n",
       "    <tr style=\"text-align: right;\">\n",
       "      <th></th>\n",
       "      <th>Average_Purchase_Price</th>\n",
       "      <th>Total_Purchase_Count</th>\n",
       "      <th>Total_Purchase_Value</th>\n",
       "    </tr>\n",
       "    <tr>\n",
       "      <th>SN</th>\n",
       "      <th></th>\n",
       "      <th></th>\n",
       "      <th></th>\n",
       "    </tr>\n",
       "  </thead>\n",
       "  <tbody>\n",
       "    <tr>\n",
       "      <th>Undirrala66</th>\n",
       "      <td>3.412000</td>\n",
       "      <td>5</td>\n",
       "      <td>17.06</td>\n",
       "    </tr>\n",
       "    <tr>\n",
       "      <th>Saedue76</th>\n",
       "      <td>3.390000</td>\n",
       "      <td>4</td>\n",
       "      <td>13.56</td>\n",
       "    </tr>\n",
       "    <tr>\n",
       "      <th>Mindimnya67</th>\n",
       "      <td>3.185000</td>\n",
       "      <td>4</td>\n",
       "      <td>12.74</td>\n",
       "    </tr>\n",
       "    <tr>\n",
       "      <th>Haellysu29</th>\n",
       "      <td>4.243333</td>\n",
       "      <td>3</td>\n",
       "      <td>12.73</td>\n",
       "    </tr>\n",
       "    <tr>\n",
       "      <th>Eoda93</th>\n",
       "      <td>3.860000</td>\n",
       "      <td>3</td>\n",
       "      <td>11.58</td>\n",
       "    </tr>\n",
       "  </tbody>\n",
       "</table>\n",
       "</div>"
      ],
      "text/plain": [
       "             Average_Purchase_Price  Total_Purchase_Count  \\\n",
       "SN                                                          \n",
       "Undirrala66                3.412000                     5   \n",
       "Saedue76                   3.390000                     4   \n",
       "Mindimnya67                3.185000                     4   \n",
       "Haellysu29                 4.243333                     3   \n",
       "Eoda93                     3.860000                     3   \n",
       "\n",
       "             Total_Purchase_Value  \n",
       "SN                                 \n",
       "Undirrala66                 17.06  \n",
       "Saedue76                    13.56  \n",
       "Mindimnya67                 12.74  \n",
       "Haellysu29                  12.73  \n",
       "Eoda93                      11.58  "
      ]
     },
     "execution_count": 10,
     "metadata": {},
     "output_type": "execute_result"
    }
   ],
   "source": [
    "# Top Spenders\n",
    "\n",
    "Top_Spenders_Total = Game.groupby(['SN']).sum()['Price'].rename('Total_Purchase_Value')\n",
    "Top_Spenders_Count = Game.groupby(['SN']).count()['Price'].rename('Total_Purchase_Count')\n",
    "Top_Spenders_Average = Game.groupby(['SN']).mean()['Price'].rename('Average_Purchase_Price')\n",
    "\n",
    "Top_Spenders = pd.DataFrame({'Total_Purchase_Value': Top_Spenders_Total,\n",
    "                          'Total_Purchase_Count': Top_Spenders_Count,\n",
    "                          \"Average_Purchase_Price\": Top_Spenders_Average})\n",
    "\n",
    "Top_Spenders.sort_values('Total_Purchase_Value', ascending=False).head(5)"
   ]
  },
  {
   "cell_type": "code",
   "execution_count": 14,
   "metadata": {},
   "outputs": [],
   "source": [
    "# Most Popular Items**\n",
    "\n",
    "#Identify the 5 most popular items by purchase count, then list (in a table):\n",
    "  # Item ID\n",
    "  # Item Name\n",
    "  # Purchase Count\n",
    "  # Item Price\n",
    "  # Total Purchase Value"
   ]
  },
  {
   "cell_type": "code",
   "execution_count": 11,
   "metadata": {},
   "outputs": [
    {
     "data": {
      "text/html": [
       "<div>\n",
       "<style scoped>\n",
       "    .dataframe tbody tr th:only-of-type {\n",
       "        vertical-align: middle;\n",
       "    }\n",
       "\n",
       "    .dataframe tbody tr th {\n",
       "        vertical-align: top;\n",
       "    }\n",
       "\n",
       "    .dataframe thead th {\n",
       "        text-align: right;\n",
       "    }\n",
       "</style>\n",
       "<table border=\"1\" class=\"dataframe\">\n",
       "  <thead>\n",
       "    <tr style=\"text-align: right;\">\n",
       "      <th></th>\n",
       "      <th>Age</th>\n",
       "      <th>Gender</th>\n",
       "      <th>Item ID</th>\n",
       "      <th>Item Name</th>\n",
       "      <th>Price</th>\n",
       "      <th>SN</th>\n",
       "      <th>Price_N</th>\n",
       "      <th>AgeGroup</th>\n",
       "    </tr>\n",
       "  </thead>\n",
       "  <tbody>\n",
       "    <tr>\n",
       "      <th>0</th>\n",
       "      <td>38</td>\n",
       "      <td>Male</td>\n",
       "      <td>165</td>\n",
       "      <td>Bone Crushing Silver Skewer</td>\n",
       "      <td>3.37</td>\n",
       "      <td>Aelalis34</td>\n",
       "      <td>0.393274</td>\n",
       "      <td>35-38</td>\n",
       "    </tr>\n",
       "    <tr>\n",
       "      <th>1</th>\n",
       "      <td>21</td>\n",
       "      <td>Male</td>\n",
       "      <td>119</td>\n",
       "      <td>Stormbringer, Dark Blade of Ending Misery</td>\n",
       "      <td>2.32</td>\n",
       "      <td>Eolo46</td>\n",
       "      <td>-0.547771</td>\n",
       "      <td>19-22</td>\n",
       "    </tr>\n",
       "    <tr>\n",
       "      <th>2</th>\n",
       "      <td>34</td>\n",
       "      <td>Male</td>\n",
       "      <td>174</td>\n",
       "      <td>Primitive Blade</td>\n",
       "      <td>2.46</td>\n",
       "      <td>Assastnya25</td>\n",
       "      <td>-0.422299</td>\n",
       "      <td>31-34</td>\n",
       "    </tr>\n",
       "    <tr>\n",
       "      <th>3</th>\n",
       "      <td>21</td>\n",
       "      <td>Male</td>\n",
       "      <td>92</td>\n",
       "      <td>Final Critic</td>\n",
       "      <td>1.36</td>\n",
       "      <td>Pheusrical25</td>\n",
       "      <td>-1.408156</td>\n",
       "      <td>19-22</td>\n",
       "    </tr>\n",
       "    <tr>\n",
       "      <th>4</th>\n",
       "      <td>23</td>\n",
       "      <td>Male</td>\n",
       "      <td>63</td>\n",
       "      <td>Stormfury Mace</td>\n",
       "      <td>1.27</td>\n",
       "      <td>Aela59</td>\n",
       "      <td>-1.488817</td>\n",
       "      <td>23-26</td>\n",
       "    </tr>\n",
       "  </tbody>\n",
       "</table>\n",
       "</div>"
      ],
      "text/plain": [
       "   Age Gender  Item ID                                  Item Name  Price  \\\n",
       "0   38   Male      165                Bone Crushing Silver Skewer   3.37   \n",
       "1   21   Male      119  Stormbringer, Dark Blade of Ending Misery   2.32   \n",
       "2   34   Male      174                            Primitive Blade   2.46   \n",
       "3   21   Male       92                               Final Critic   1.36   \n",
       "4   23   Male       63                             Stormfury Mace   1.27   \n",
       "\n",
       "             SN   Price_N AgeGroup  \n",
       "0     Aelalis34  0.393274    35-38  \n",
       "1        Eolo46 -0.547771    19-22  \n",
       "2   Assastnya25 -0.422299    31-34  \n",
       "3  Pheusrical25 -1.408156    19-22  \n",
       "4        Aela59 -1.488817    23-26  "
      ]
     },
     "execution_count": 11,
     "metadata": {},
     "output_type": "execute_result"
    }
   ],
   "source": [
    "Game.head()"
   ]
  },
  {
   "cell_type": "code",
   "execution_count": null,
   "metadata": {},
   "outputs": [],
   "source": [
    "Most_Popular_Item = Game.groupby(['Item ID']).count()\n",
    "Popular_Item = pd.DataFrame({'Purchase_Count': Most_Popular_Item})\n",
    "Most_Popular_Item.head()"
   ]
  },
  {
   "cell_type": "code",
   "execution_count": 13,
   "metadata": {
    "scrolled": true
   },
   "outputs": [
    {
     "data": {
      "text/html": [
       "<div>\n",
       "<style scoped>\n",
       "    .dataframe tbody tr th:only-of-type {\n",
       "        vertical-align: middle;\n",
       "    }\n",
       "\n",
       "    .dataframe tbody tr th {\n",
       "        vertical-align: top;\n",
       "    }\n",
       "\n",
       "    .dataframe thead th {\n",
       "        text-align: right;\n",
       "    }\n",
       "</style>\n",
       "<table border=\"1\" class=\"dataframe\">\n",
       "  <thead>\n",
       "    <tr style=\"text-align: right;\">\n",
       "      <th></th>\n",
       "      <th></th>\n",
       "      <th></th>\n",
       "      <th>Purchase_Count</th>\n",
       "    </tr>\n",
       "    <tr>\n",
       "      <th>Item ID</th>\n",
       "      <th>Item Name</th>\n",
       "      <th>Price</th>\n",
       "      <th></th>\n",
       "    </tr>\n",
       "  </thead>\n",
       "  <tbody>\n",
       "    <tr>\n",
       "      <th>0</th>\n",
       "      <th>Splinter</th>\n",
       "      <th>1.82</th>\n",
       "      <td>1</td>\n",
       "    </tr>\n",
       "    <tr>\n",
       "      <th>1</th>\n",
       "      <th>Crucifer</th>\n",
       "      <th>2.28</th>\n",
       "      <td>4</td>\n",
       "    </tr>\n",
       "    <tr>\n",
       "      <th>2</th>\n",
       "      <th>Verdict</th>\n",
       "      <th>3.40</th>\n",
       "      <td>1</td>\n",
       "    </tr>\n",
       "    <tr>\n",
       "      <th>3</th>\n",
       "      <th>Phantomlight</th>\n",
       "      <th>1.79</th>\n",
       "      <td>1</td>\n",
       "    </tr>\n",
       "    <tr>\n",
       "      <th>4</th>\n",
       "      <th>Bloodlord's Fetish</th>\n",
       "      <th>2.28</th>\n",
       "      <td>1</td>\n",
       "    </tr>\n",
       "  </tbody>\n",
       "</table>\n",
       "</div>"
      ],
      "text/plain": [
       "                                  Purchase_Count\n",
       "Item ID Item Name          Price                \n",
       "0       Splinter           1.82                1\n",
       "1       Crucifer           2.28                4\n",
       "2       Verdict            3.40                1\n",
       "3       Phantomlight       1.79                1\n",
       "4       Bloodlord's Fetish 2.28                1"
      ]
     },
     "execution_count": 13,
     "metadata": {},
     "output_type": "execute_result"
    }
   ],
   "source": [
    "#.sort_values(ascending = False)\n",
    "#Most_Popular_Item = Game.groupby('Item ID')['Item ID'].count()\n",
    "#Most_Popular_Item\n",
    "\n",
    "Most_Popular_Item = Game.groupby(['Item ID', 'Item Name', 'Price'])['Item ID'].count()\n",
    "Popular_Item = pd.DataFrame({'Purchase_Count': Most_Popular_Item})\n",
    "Popular_Item.head()"
   ]
  },
  {
   "cell_type": "code",
   "execution_count": 14,
   "metadata": {},
   "outputs": [
    {
     "data": {
      "text/html": [
       "<div>\n",
       "<style scoped>\n",
       "    .dataframe tbody tr th:only-of-type {\n",
       "        vertical-align: middle;\n",
       "    }\n",
       "\n",
       "    .dataframe tbody tr th {\n",
       "        vertical-align: top;\n",
       "    }\n",
       "\n",
       "    .dataframe thead th {\n",
       "        text-align: right;\n",
       "    }\n",
       "</style>\n",
       "<table border=\"1\" class=\"dataframe\">\n",
       "  <thead>\n",
       "    <tr style=\"text-align: right;\">\n",
       "      <th></th>\n",
       "      <th></th>\n",
       "      <th></th>\n",
       "      <th>Purchase_Count</th>\n",
       "    </tr>\n",
       "    <tr>\n",
       "      <th>Item ID</th>\n",
       "      <th>Item Name</th>\n",
       "      <th>Price</th>\n",
       "      <th></th>\n",
       "    </tr>\n",
       "  </thead>\n",
       "  <tbody>\n",
       "    <tr>\n",
       "      <th>0</th>\n",
       "      <th>Splinter</th>\n",
       "      <th>1.82</th>\n",
       "      <td>1</td>\n",
       "    </tr>\n",
       "    <tr>\n",
       "      <th>1</th>\n",
       "      <th>Crucifer</th>\n",
       "      <th>2.28</th>\n",
       "      <td>4</td>\n",
       "    </tr>\n",
       "    <tr>\n",
       "      <th>2</th>\n",
       "      <th>Verdict</th>\n",
       "      <th>3.40</th>\n",
       "      <td>1</td>\n",
       "    </tr>\n",
       "    <tr>\n",
       "      <th>3</th>\n",
       "      <th>Phantomlight</th>\n",
       "      <th>1.79</th>\n",
       "      <td>1</td>\n",
       "    </tr>\n",
       "    <tr>\n",
       "      <th>4</th>\n",
       "      <th>Bloodlord's Fetish</th>\n",
       "      <th>2.28</th>\n",
       "      <td>1</td>\n",
       "    </tr>\n",
       "  </tbody>\n",
       "</table>\n",
       "</div>"
      ],
      "text/plain": [
       "                                  Purchase_Count\n",
       "Item ID Item Name          Price                \n",
       "0       Splinter           1.82                1\n",
       "1       Crucifer           2.28                4\n",
       "2       Verdict            3.40                1\n",
       "3       Phantomlight       1.79                1\n",
       "4       Bloodlord's Fetish 2.28                1"
      ]
     },
     "execution_count": 14,
     "metadata": {},
     "output_type": "execute_result"
    }
   ],
   "source": [
    "Popular_Item = pd.DataFrame({'Purchase_Count': Most_Popular_Item})\n",
    "Popular_Item.head()"
   ]
  },
  {
   "cell_type": "code",
   "execution_count": 15,
   "metadata": {
    "scrolled": true
   },
   "outputs": [
    {
     "data": {
      "text/plain": [
       "Purchase_Count    int64\n",
       "dtype: object"
      ]
     },
     "execution_count": 15,
     "metadata": {},
     "output_type": "execute_result"
    }
   ],
   "source": [
    "Popular_Item.dtypes"
   ]
  },
  {
   "cell_type": "code",
   "execution_count": 20,
   "metadata": {
    "scrolled": true
   },
   "outputs": [],
   "source": [
    "#pd.merge(Game, Popular_Item, on=\"Item Name\")\n",
    "\n",
    "#Popular_Item.describe\n",
    "\n",
    "#Popular_Item.set_index(\"Item Name\")\n",
    "\n",
    "#Popular_Item.head()"
   ]
  },
  {
   "cell_type": "code",
   "execution_count": null,
   "metadata": {},
   "outputs": [],
   "source": [
    "pd.merge(Game, Popular_Item, on=\"Item Name\")"
   ]
  },
  {
   "cell_type": "code",
   "execution_count": null,
   "metadata": {},
   "outputs": [],
   "source": [
    "pd.merge(Game, Popular_Item, on=\"Item ID\")"
   ]
  },
  {
   "cell_type": "code",
   "execution_count": null,
   "metadata": {},
   "outputs": [],
   "source": []
  },
  {
   "cell_type": "code",
   "execution_count": null,
   "metadata": {},
   "outputs": [],
   "source": []
  }
 ],
 "metadata": {
  "kernelspec": {
   "display_name": "Python 3",
   "language": "python",
   "name": "python3"
  },
  "language_info": {
   "codemirror_mode": {
    "name": "ipython",
    "version": 3
   },
   "file_extension": ".py",
   "mimetype": "text/x-python",
   "name": "python",
   "nbconvert_exporter": "python",
   "pygments_lexer": "ipython3",
   "version": "3.6.4"
  }
 },
 "nbformat": 4,
 "nbformat_minor": 2
}
